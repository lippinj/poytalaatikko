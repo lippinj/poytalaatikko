{
 "cells": [
  {
   "cell_type": "code",
   "execution_count": 1,
   "id": "a0e92db7-edc3-473c-898c-4bc81fddb8dc",
   "metadata": {},
   "outputs": [],
   "source": [
    "import numpy as np\n",
    "import torch"
   ]
  },
  {
   "cell_type": "code",
   "execution_count": 2,
   "id": "9171a8ae-c5d8-4fdd-aee7-d29b40421e78",
   "metadata": {},
   "outputs": [],
   "source": [
    "from local import *\n",
    "DATA = Data(\"HVT_TULOT_70\")"
   ]
  },
  {
   "cell_type": "code",
   "execution_count": 3,
   "id": "d1095d4c-b050-4a71-ada9-4c4c324461f8",
   "metadata": {},
   "outputs": [],
   "source": [
    "row = DATA.row(1)\n",
    "p = Problem(row.N, row.sum, row.fractiles)"
   ]
  },
  {
   "cell_type": "code",
   "execution_count": 66,
   "id": "1ad9d84c-74fb-4bf5-b58a-8ce9cfcfdcb8",
   "metadata": {},
   "outputs": [],
   "source": [
    "def f(problem, logx):\n",
    "    S = 0.0\n",
    "    x = torch.exp(logx)\n",
    "    for seg in problem.segments:\n",
    "        h0 = seg.lo + 0.01\n",
    "        h = torch.cumsum(x[seg.i:seg.j], 0) + h0\n",
    "        S += ((h[0] / h0) - 1) ** 2\n",
    "        S += ((torch.exp(torch.diff(torch.log(h))) - 1) ** 2).sum()\n",
    "        if seg.hi:\n",
    "            S += ((seg.hi + 0.01) / h[-1] - 1) ** 2\n",
    "    return S"
   ]
  },
  {
   "cell_type": "code",
   "execution_count": 80,
   "id": "06ddb620-0b92-4013-9d51-3147a06dd319",
   "metadata": {},
   "outputs": [],
   "source": [
    "class Optimize:\n",
    "    def __init__(self, problem):\n",
    "        self.problem = problem\n",
    "        self.x = self._make_initial_guess()\n",
    "\n",
    "    def bail(self):\n",
    "        self.x = self._bail\n",
    "    \n",
    "    def iterate(self, N, lr):\n",
    "        self._bail = self.x.detach().clone().requires_grad_(True)\n",
    "        for i in range(N):\n",
    "            opt = torch.optim.SGD([self.x], lr=lr)\n",
    "            opt.zero_grad()\n",
    "            loss = f(self.problem, self.x)\n",
    "            loss.backward()\n",
    "            opt.step()\n",
    "            self.x = self._project(self.x).detach().clone().requires_grad_(True)\n",
    "        return loss\n",
    "\n",
    "    def bake(self):\n",
    "        x = torch.exp(self.x)\n",
    "        y = torch.zeros(self.problem.count)\n",
    "        for n, v in self.problem.fixpoints:\n",
    "            y[n] = v\n",
    "        for seg in self.problem.segments:\n",
    "            y[seg.begin:seg.end] = seg.lo + torch.cumsum(x[seg.i:seg.j], 0)\n",
    "        return y.detach().numpy()\n",
    "\n",
    "    def _project(self, logx):\n",
    "        k = self.problem.free_total / self._free_sum(logx)\n",
    "        return torch.log(k) + logx\n",
    "\n",
    "    def _free_sum(self, logx):\n",
    "        S = 0.0\n",
    "        x = torch.exp(logx)\n",
    "        for seg in self.problem.segments:\n",
    "            sx = torch.cumsum(x[seg.i:seg.j], 0)\n",
    "            S += sx.sum()\n",
    "        return S\n",
    "    \n",
    "    def _make_initial_guess(self):\n",
    "        x0 = []\n",
    "        for seg in self.problem.segments:\n",
    "            step = seg.implied_step or 0.01\n",
    "            x0 += [np.log(step)] * seg.count\n",
    "        return self._project(torch.tensor(x0)).detach().clone().requires_grad_(True)"
   ]
  },
  {
   "cell_type": "code",
   "execution_count": 81,
   "id": "176b6a1e-cad0-4520-b6c5-caaae8cedf33",
   "metadata": {},
   "outputs": [],
   "source": [
    "opt = Optimize(p)"
   ]
  },
  {
   "cell_type": "code",
   "execution_count": 95,
   "id": "fb39562f-4972-4f9f-b3b1-a679924890bb",
   "metadata": {},
   "outputs": [
    {
     "name": "stdout",
     "output_type": "stream",
     "text": [
      "tensor(0.0032, dtype=torch.float64, grad_fn=<AddBackward0>)\n"
     ]
    },
    {
     "data": {
      "text/plain": [
       "[<matplotlib.lines.Line2D at 0x725f83c3a090>]"
      ]
     },
     "execution_count": 95,
     "metadata": {},
     "output_type": "execute_result"
    },
    {
     "data": {
      "image/png": "[encoded data removed]",
      "text/plain": [
       "<Figure size 640x480 with 1 Axes>"
      ]
     },
     "metadata": {},
     "output_type": "display_data"
    }
   ],
   "source": [
    "# opt.bail()\n",
    "print(opt.iterate(1000, 10_000.0))\n",
    "plt.plot(opt.bake())"
   ]
  },
  {
   "cell_type": "code",
   "execution_count": null,
   "id": "67373cb1-a59f-4a12-8759-37fba523d69f",
   "metadata": {},
   "outputs": [],
   "source": []
  }
 ],
 "metadata": {
  "kernelspec": {
   "display_name": "Python 3 (ipykernel)",
   "language": "python",
   "name": "python3"
  },
  "language_info": {
   "codemirror_mode": {
    "name": "ipython",
    "version": 3
   },
   "file_extension": ".py",
   "mimetype": "text/x-python",
   "name": "python",
   "nbconvert_exporter": "python",
   "pygments_lexer": "ipython3",
   "version": "3.12.3"
  }
 },
 "nbformat": 4,
 "nbformat_minor": 5
}
