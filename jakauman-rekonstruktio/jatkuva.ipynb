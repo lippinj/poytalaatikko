{
 "cells": [
  {
   "cell_type": "code",
   "execution_count": 1,
   "id": "77b01d9e-2cc8-49a6-bbeb-552ab67095d9",
   "metadata": {},
   "outputs": [],
   "source": [
    "import statfin\n",
    "import pandas as pd\n",
    "import numpy as np\n",
    "from scipy.optimize import Bounds, LinearConstraint, SR1, minimize\n",
    "from matplotlib import pyplot as plt"
   ]
  },
  {
   "cell_type": "code",
   "execution_count": 4,
   "id": "8fbcda75-7299-4fba-96e6-15f099e5d080",
   "metadata": {},
   "outputs": [
    {
     "name": "stdout",
     "output_type": "stream",
     "text": [
      "658229778\n",
      "349477\n",
      "[0.1  0.2  0.25 0.3  0.4  0.5  0.6  0.7  0.75 0.8  0.9 ]\n"
     ]
    }
   ],
   "source": [
    "from local import *\n",
    "DATA = Data(\"HVT_TULOT_70\")\n",
    "\n",
    "print(DATA.row(1).sum)\n",
    "print(DATA.row(1).N)\n",
    "print(DATA.row(1).p)"
   ]
  },
  {
   "cell_type": "code",
   "execution_count": null,
   "id": "bdce7336-99b8-4af0-9241-3aa5220593f7",
   "metadata": {},
   "outputs": [],
   "source": [
    "class Domain:\n",
    "    def __init__(self, xmax = 1e6, N = 1_000):\n",
    "        k = np.log(xmax) / (N - 2)\n",
    "        self.N = N\n",
    "        self.x = np.hstack([[0], np.exp(k * np.arange(0, N - 1, 1))])\n",
    "        self.dx = np.diff(self.x)\n",
    "        self.dx2 = self.dx ** 2\n",
    "\n",
    "    def index(self, x):\n",
    "        return round(x)"
   ]
  },
  {
   "cell_type": "code",
   "execution_count": null,
   "id": "7433ef24-5553-400b-bbea-18393ec14ffc",
   "metadata": {},
   "outputs": [],
   "source": [
    "class Problem:\n",
    "    def __init__(self, domain, specs):\n",
    "        self.domain = domain\n",
    "        self.specs = specs\n",
    "        self.bounds = Bounds(0, np.inf)\n",
    "        self.constraints = []\n",
    "        self.constraints.append(self.sum_constraint())\n",
    "\n",
    "    def sum_constraint(self):\n",
    "        return LinearConstraint(self.domain.x, self.specs.sum, self.specs.sum)\n",
    "\n",
    "    def cost(self, n):\n",
    "        return np.sum(self.r(n) - self.domain.dx)\n",
    "\n",
    "    def jac(self, n):\n",
    "        dn = np.diff(n)\n",
    "        return dn / self.r(n)\n",
    "\n",
    "    def r(self, n):\n",
    "        dn = np.diff(n)\n",
    "        dn2 = dn ** 2\n",
    "        dx2 = self.domain.dx2\n",
    "        return np.sqrt(dx2 + dn2)\n",
    "\n",
    "    def minimize(self):\n",
    "        n0 = self.specs.sum / self.domain.N * np.ones(self.domain.N)\n",
    "        return minimize(\n",
    "            self.cost,\n",
    "            n0,\n",
    "            #method=\"trust-constr\",\n",
    "            #jac=self.jac,\n",
    "            bounds=self.bounds,\n",
    "            constraints=self.constraints\n",
    "        )"
   ]
  },
  {
   "cell_type": "code",
   "execution_count": null,
   "id": "27910f54-cec1-49b6-83f7-9d9ba51af732",
   "metadata": {},
   "outputs": [],
   "source": [
    "p = Problem(Domain(), DATA.row(1))\n",
    "opt = p.minimize()"
   ]
  },
  {
   "cell_type": "code",
   "execution_count": null,
   "id": "0dacbb71-a589-4d53-87b7-727502612b3f",
   "metadata": {},
   "outputs": [],
   "source": [
    "plt.plot(p.domain.x, opt.x)"
   ]
  },
  {
   "cell_type": "code",
   "execution_count": null,
   "id": "10a8a2ff-c276-456f-8ce2-a800bc23fe44",
   "metadata": {},
   "outputs": [],
   "source": []
  }
 ],
 "metadata": {
  "kernelspec": {
   "display_name": "Python 3 (ipykernel)",
   "language": "python",
   "name": "python3"
  },
  "language_info": {
   "codemirror_mode": {
    "name": "ipython",
    "version": 3
   },
   "file_extension": ".py",
   "mimetype": "text/x-python",
   "name": "python",
   "nbconvert_exporter": "python",
   "pygments_lexer": "ipython3",
   "version": "3.12.3"
  }
 },
 "nbformat": 4,
 "nbformat_minor": 5
}
