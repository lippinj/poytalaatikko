{
 "cells": [
  {
   "cell_type": "code",
   "execution_count": 1,
   "id": "dc5d3ea0-e19f-47ea-9873-3ef356a7d4d2",
   "metadata": {},
   "outputs": [],
   "source": [
    "from collections import defaultdict\n",
    "import ylekone"
   ]
  },
  {
   "cell_type": "code",
   "execution_count": 2,
   "id": "54e75227-1412-43df-8ad5-b8aa8c5e7dd2",
   "metadata": {},
   "outputs": [],
   "source": [
    "# Start from this top level object.\n",
    "vk = ylekone.Vaalikone()"
   ]
  },
  {
   "cell_type": "code",
   "execution_count": 3,
   "id": "2f559166-9adc-4c62-ab54-abc6a81bcd50",
   "metadata": {},
   "outputs": [
    {
     "data": {
      "text/plain": [
       "<25:Helsinki>"
      ]
     },
     "execution_count": 3,
     "metadata": {},
     "output_type": "execute_result"
    }
   ],
   "source": [
    "# Index with square brackets to fetch a municipality by name or id. Results are cached.\n",
    "helsinki = vk[\"Helsinki\"]\n",
    "helsinki"
   ]
  },
  {
   "cell_type": "code",
   "execution_count": 4,
   "id": "e11ca638-d546-431d-a0de-f6c0d192b487",
   "metadata": {},
   "outputs": [
    {
     "data": {
      "text/plain": [
       "<6467:Mari Holopainen (Vihr.)>"
      ]
     },
     "execution_count": 4,
     "metadata": {},
     "output_type": "execute_result"
    }
   ],
   "source": [
    "# Index with square brackets to fetch a candidate by name or id. Results are cached.\n",
    "mari = helsinki[\"Mari Holopainen\"]\n",
    "mari"
   ]
  },
  {
   "cell_type": "code",
   "execution_count": 5,
   "id": "1a4ee6b7-9a5e-42a6-b939-8bf9371f5db1",
   "metadata": {},
   "outputs": [
    {
     "name": "stdout",
     "output_type": "stream",
     "text": [
      "<42:Annikka Alanko (Kok.)>\n",
      "<27:Anna Laine (Vihr.)>\n",
      "<125:Laura Serkosalo (Vihr.)>\n",
      "<18011:Ted Urho (RKP)>\n",
      "<6216:Tanja Uusitalo (SDP)>\n",
      "<9613:Kimmo Veijalainen (PS)>\n",
      "<360:Petteri Sortes (SDP)>\n"
     ]
    }
   ],
   "source": [
    "# You can also iterate over candidates.\n",
    "for i, c in enumerate(helsinki.candidates):\n",
    "    print(c)\n",
    "    if i > 5:\n",
    "        break # Just fetch 5 for demonstration; it can take a while if you are fetching a candidate's data for the first time."
   ]
  },
  {
   "cell_type": "code",
   "execution_count": 6,
   "id": "62f62a0f-c1d9-4d6b-b77c-1b98c7a33f8c",
   "metadata": {},
   "outputs": [
    {
     "name": "stdout",
     "output_type": "stream",
     "text": [
      "  83: Kuntani tulisi asettaa yläraja peruskoulun opetusryhmien koolle.\n",
      "  81: Pienten koulujen lakkauttaminen on perusteltua säästösyistä.\n",
      "  82: Kunnassani tulisi tarjota mahdollisuus opiskella ruotsin kieltä suomenkielisissä kouluissa jo ennen peruskoulujen kuudetta luokkaa.\n",
      "  85: Kunnan pitää tukea rahallisesti alle 3-vuotiaiden lasten hoitamista kotona.\n",
      "  87: Kuntani pitää houkutella asukkaita vauvarahalla.\n",
      "  84: Kouluissa ja päiväkodeissa pitää vähentää liharuoan tarjoamista.\n",
      "  86: Koulun on pidettävä yllä kristillisiä perinteitä.\n",
      "  88: Jos kunnan tuloja ja menoja tasapainotetaan, se on tehtävä mieluummin menoja leikkaamalla kuin veroja korottamalla.\n",
      "  89: Pääomatulot on pidettävä kunnallisverotuksen ulkopuolella.\n",
      "  90: Kunnan on ostettava ensisijaisesti palveluita omistamiltaan yhtiöiltä.\n",
      "  91: Kuntien pitää osallistua maakuntalentojen rahoittamiseen.\n",
      "  92: Pienten paikkakuntien työttömille riittää, että tukea työnhakuun saa etänä.\n",
      "  93: Kunnan pitää tarvittaessa pakkolunastaa yksityisiä maa-alueita, jotta se saa tonttimaata rakentamiseen.\n",
      "  99: Kuntani tulisi välttää avohakkuita omistamillaan metsäalueilla.\n",
      " 101: Kunnan on asetettava rakentaminen lähiluonnon säilyttämisen edelle.\n",
      " 100: Kuntaani pitää houkutella lisää teollisuuden työpaikkoja, vaikka siitä olisi haittaa ympäristölle.\n",
      " 102: Kuntani on pyrittävä saavuttamaan hiilineutraalius jo ennen Suomen tavoitevuotta 2035.\n",
      "  98: Myös kuntani harvaan asutuilta alueilta pitää päästä palveluiden ääreen julkisella liikenteellä.\n",
      " 103: Maahanmuuttajat vahvistavat kotikuntani elinvoimaa.\n",
      " 105: Kuntani pitää kieltäytyä vastaanottamasta kiintiöpakolaisia.\n",
      "  96: Kuntani pitää rahoittaa tapahtumia, jotka lisäävät erilaisten kulttuurien vuorovaikutusta.\n",
      " 104: Kuntani pitää säästää maahanmuuttajien kotouttamisen palveluista.\n",
      "  94: Kuntien pitää paikata valtion tekemät leikkaukset teattereiden rahoitukseen.\n",
      "  95: Kirjastoja pitäisi muuttaa itsepalvelukirjastoiksi, jotta kuntani voi säästää henkilöstön palkkakuluista.\n",
      "  97: Kotikuntani olisi hyvä osoittaa tukensa sukupuoli- ja seksuaalivähemmistöille Pride-liputuksella.\n",
      " 238: Helsingin tulee kieltää polttomoottoriajoneuvoilla ajaminen keskustassa.\n",
      " 239: Helsingin pitää kieltää esimerkiksi Sinimustan liikkeen lukupiirin kaltaiset ääriliikkeiden tapahtumat kaupungin tiloissa.\n",
      " 240: Helsingin tulee ottaa käyttöön terveyskeskusmaksu palveluiden rahoittamiseksi.\n",
      " 241: Helsingin tulee luopua nykymuotoisista painotetun opetuksen luokista, kuten erillisistä musiikkiluokista.\n",
      " 242: Helsingin pitää osoittaa nykyistä enemmän tukea alueille, missä asuu enemmän syrjäytymisvaarassa olevia ihmisiä.\n",
      " 243: Helsinkiin pitää palauttaa HSL:n A-vyöhykkeen edullinen kertalippu, vaikka se lisäisi kaupungin joukkoliikennekustannuksia.\n",
      " 244: Helsingin pitää palkata ennemmin lisää työvoimaa kuin ostaa koulujen lakisääteiset terveystarkastukset yksityisiltä lääkäriasemilta.\n",
      " 245: Helsingissä on varaa alentaa tonttien vuokrahintoja ja näin pienentää monen kaupunkilaisen asumisen kustannuksia.\n"
     ]
    }
   ],
   "source": [
    "# Similarly, you can iterate over questions.\n",
    "for id, text_fi, full_json in helsinki.questions:\n",
    "    print(f\"{id:>4}: {text_fi}\")"
   ]
  },
  {
   "cell_type": "code",
   "execution_count": 7,
   "id": "bda10526-9b91-49b1-970c-52250193cd23",
   "metadata": {},
   "outputs": [
    {
     "data": {
      "text/plain": [
       "{81: 1,\n",
       " 82: 5,\n",
       " 83: 5,\n",
       " 84: 5,\n",
       " 85: 4,\n",
       " 86: 4,\n",
       " 87: 1,\n",
       " 88: 2,\n",
       " 89: 4,\n",
       " 90: 2,\n",
       " 91: 1,\n",
       " 92: 1,\n",
       " 93: 4,\n",
       " 94: 5,\n",
       " 95: 1,\n",
       " 96: 5,\n",
       " 97: 5,\n",
       " 98: 5,\n",
       " 99: 5,\n",
       " 100: 1,\n",
       " 101: 1,\n",
       " 102: 5,\n",
       " 103: 5,\n",
       " 104: 1,\n",
       " 105: 1,\n",
       " 238: 2,\n",
       " 239: 5,\n",
       " 240: 1,\n",
       " 241: 1,\n",
       " 242: 5,\n",
       " 243: 4,\n",
       " 244: 4,\n",
       " 245: 4}"
      ]
     },
     "execution_count": 7,
     "metadata": {},
     "output_type": "execute_result"
    }
   ],
   "source": [
    "# The answers given by a candidate can be fetched as a dict.\n",
    "mari.answers_dict"
   ]
  },
  {
   "cell_type": "code",
   "execution_count": 12,
   "id": "df09015e-ce3a-42fd-8c1f-c1181fe2126f",
   "metadata": {},
   "outputs": [],
   "source": [
    "# Collect per-party answer counts. (This may take a while, because we have to fetch each candidate's JSON!)\n",
    "result = defaultdict(lambda: defaultdict(lambda: defaultdict(lambda: 0)))\n",
    "for c in helsinki.candidates:\n",
    "    party = c.party_short\n",
    "    answers = c.answers_dict\n",
    "    for id, _, _ in helsinki.questions:\n",
    "        if id in answers:\n",
    "            result[party][id][answers[id]] += 1"
   ]
  },
  {
   "cell_type": "code",
   "execution_count": 21,
   "id": "e35ffc0a-800f-404b-af64-31ffb86fe022",
   "metadata": {},
   "outputs": [
    {
     "name": "stdout",
     "output_type": "stream",
     "text": [
      "Vihr.   --    -    +   ++\n",
      "         1    5   22   97 : Kuntani tulisi asettaa yläraja peruskoulun opetusryhmien koolle.\n",
      "        45   62   17    1 : Pienten koulujen lakkauttaminen on perusteltua säästösyistä.\n",
      "         0    2   38   85 : Kunnassani tulisi tarjota mahdollisuus opiskella ruotsin kieltä suomenkielisissä kouluissa jo ennen peruskoulujen kuudetta luokkaa.\n",
      "        29   49   34   13 : Kunnan pitää tukea rahallisesti alle 3-vuotiaiden lasten hoitamista kotona.\n",
      "        79   37    5    4 : Kuntani pitää houkutella asukkaita vauvarahalla.\n",
      "         0    4   32   89 : Kouluissa ja päiväkodeissa pitää vähentää liharuoan tarjoamista.\n",
      "        55   54   14    2 : Koulun on pidettävä yllä kristillisiä perinteitä.\n",
      "        40   62   17    6 : Jos kunnan tuloja ja menoja tasapainotetaan, se on tehtävä mieluummin menoja leikkaamalla kuin veroja korottamalla.\n",
      "        14   42   44   25 : Pääomatulot on pidettävä kunnallisverotuksen ulkopuolella.\n",
      "        19   48   51    7 : Kunnan on ostettava ensisijaisesti palveluita omistamiltaan yhtiöiltä.\n",
      "        98   14   10    3 : Kuntien pitää osallistua maakuntalentojen rahoittamiseen.\n",
      "        24   64   33    4 : Pienten paikkakuntien työttömille riittää, että tukea työnhakuun saa etänä.\n",
      "        26   44   48    7 : Kunnan pitää tarvittaessa pakkolunastaa yksityisiä maa-alueita, jotta se saa tonttimaata rakentamiseen.\n",
      "         0    1    2  122 : Kuntani tulisi välttää avohakkuita omistamillaan metsäalueilla.\n",
      "        99   23    2    1 : Kunnan on asetettava rakentaminen lähiluonnon säilyttämisen edelle.\n",
      "       102   20    2    1 : Kuntaani pitää houkutella lisää teollisuuden työpaikkoja, vaikka siitä olisi haittaa ympäristölle.\n",
      "         0    2   15  108 : Kuntani on pyrittävä saavuttamaan hiilineutraalius jo ennen Suomen tavoitevuotta 2035.\n",
      "         0    1   15  109 : Myös kuntani harvaan asutuilta alueilta pitää päästä palveluiden ääreen julkisella liikenteellä.\n",
      "         0    0   13  112 : Maahanmuuttajat vahvistavat kotikuntani elinvoimaa.\n",
      "       120    4    1    0 : Kuntani pitää kieltäytyä vastaanottamasta kiintiöpakolaisia.\n",
      "         1    0   29   95 : Kuntani pitää rahoittaa tapahtumia, jotka lisäävät erilaisten kulttuurien vuorovaikutusta.\n",
      "       113   11    1    0 : Kuntani pitää säästää maahanmuuttajien kotouttamisen palveluista.\n",
      "         4   17   42   62 : Kuntien pitää paikata valtion tekemät leikkaukset teattereiden rahoitukseen.\n",
      "        66   50    9    0 : Kirjastoja pitäisi muuttaa itsepalvelukirjastoiksi, jotta kuntani voi säästää henkilöstön palkkakuluista.\n",
      "         0    1    6  118 : Kotikuntani olisi hyvä osoittaa tukensa sukupuoli- ja seksuaalivähemmistöille Pride-liputuksella.\n",
      "         6   22   58   39 : Helsingin tulee kieltää polttomoottoriajoneuvoilla ajaminen keskustassa.\n",
      "         1    8   18   98 : Helsingin pitää kieltää esimerkiksi Sinimustan liikkeen lukupiirin kaltaiset ääriliikkeiden tapahtumat kaupungin tiloissa.\n",
      "        94   21   10    0 : Helsingin tulee ottaa käyttöön terveyskeskusmaksu palveluiden rahoittamiseksi.\n",
      "        41   54   26    4 : Helsingin tulee luopua nykymuotoisista painotetun opetuksen luokista, kuten erillisistä musiikkiluokista.\n",
      "         0    2   23  100 : Helsingin pitää osoittaa nykyistä enemmän tukea alueille, missä asuu enemmän syrjäytymisvaarassa olevia ihmisiä.\n",
      "         4   19   43   59 : Helsinkiin pitää palauttaa HSL:n A-vyöhykkeen edullinen kertalippu, vaikka se lisäisi kaupungin joukkoliikennekustannuksia.\n",
      "         2   23   43   57 : Helsingin pitää palkata ennemmin lisää työvoimaa kuin ostaa koulujen lakisääteiset terveystarkastukset yksityisiltä lääkäriasemilta.\n",
      "        23   72   23    7 : Helsingissä on varaa alentaa tonttien vuokrahintoja ja näin pienentää monen kaupunkilaisen asumisen kustannuksia.\n",
      "Vas.    --    -    +   ++\n",
      "         0    1   15  101 : Kuntani tulisi asettaa yläraja peruskoulun opetusryhmien koolle.\n",
      "        74   41    2    0 : Pienten koulujen lakkauttaminen on perusteltua säästösyistä.\n",
      "         1    3   32   81 : Kunnassani tulisi tarjota mahdollisuus opiskella ruotsin kieltä suomenkielisissä kouluissa jo ennen peruskoulujen kuudetta luokkaa.\n",
      "        11   26   60   20 : Kunnan pitää tukea rahallisesti alle 3-vuotiaiden lasten hoitamista kotona.\n",
      "        85   27    4    1 : Kuntani pitää houkutella asukkaita vauvarahalla.\n",
      "         3    4   22   88 : Kouluissa ja päiväkodeissa pitää vähentää liharuoan tarjoamista.\n",
      "        71   36    9    1 : Koulun on pidettävä yllä kristillisiä perinteitä.\n",
      "        88   27    2    0 : Jos kunnan tuloja ja menoja tasapainotetaan, se on tehtävä mieluummin menoja leikkaamalla kuin veroja korottamalla.\n",
      "        55   43   10    9 : Pääomatulot on pidettävä kunnallisverotuksen ulkopuolella.\n",
      "         1   18   49   49 : Kunnan on ostettava ensisijaisesti palveluita omistamiltaan yhtiöiltä.\n",
      "        92   22    3    0 : Kuntien pitää osallistua maakuntalentojen rahoittamiseen.\n",
      "        60   47    9    1 : Pienten paikkakuntien työttömille riittää, että tukea työnhakuun saa etänä.\n",
      "        10   28   67   12 : Kunnan pitää tarvittaessa pakkolunastaa yksityisiä maa-alueita, jotta se saa tonttimaata rakentamiseen.\n",
      "         0    0    9  108 : Kuntani tulisi välttää avohakkuita omistamillaan metsäalueilla.\n",
      "        86   30    1    0 : Kunnan on asetettava rakentaminen lähiluonnon säilyttämisen edelle.\n",
      "        86   28    2    1 : Kuntaani pitää houkutella lisää teollisuuden työpaikkoja, vaikka siitä olisi haittaa ympäristölle.\n",
      "         0    4   13  100 : Kuntani on pyrittävä saavuttamaan hiilineutraalius jo ennen Suomen tavoitevuotta 2035.\n",
      "         0    0    2  115 : Myös kuntani harvaan asutuilta alueilta pitää päästä palveluiden ääreen julkisella liikenteellä.\n",
      "         0    0   12  105 : Maahanmuuttajat vahvistavat kotikuntani elinvoimaa.\n",
      "       111    6    0    0 : Kuntani pitää kieltäytyä vastaanottamasta kiintiöpakolaisia.\n",
      "         0    0   22   95 : Kuntani pitää rahoittaa tapahtumia, jotka lisäävät erilaisten kulttuurien vuorovaikutusta.\n",
      "       112    5    0    0 : Kuntani pitää säästää maahanmuuttajien kotouttamisen palveluista.\n",
      "         0    3   47   67 : Kuntien pitää paikata valtion tekemät leikkaukset teattereiden rahoitukseen.\n",
      "        96   20    1    0 : Kirjastoja pitäisi muuttaa itsepalvelukirjastoiksi, jotta kuntani voi säästää henkilöstön palkkakuluista.\n",
      "         1    2    4  110 : Kotikuntani olisi hyvä osoittaa tukensa sukupuoli- ja seksuaalivähemmistöille Pride-liputuksella.\n",
      "         8   15   60   34 : Helsingin tulee kieltää polttomoottoriajoneuvoilla ajaminen keskustassa.\n",
      "         0    2   10  105 : Helsingin pitää kieltää esimerkiksi Sinimustan liikkeen lukupiirin kaltaiset ääriliikkeiden tapahtumat kaupungin tiloissa.\n",
      "       114    2    1    0 : Helsingin tulee ottaa käyttöön terveyskeskusmaksu palveluiden rahoittamiseksi.\n",
      "        26   39   35   17 : Helsingin tulee luopua nykymuotoisista painotetun opetuksen luokista, kuten erillisistä musiikkiluokista.\n",
      "         0    1   11  105 : Helsingin pitää osoittaa nykyistä enemmän tukea alueille, missä asuu enemmän syrjäytymisvaarassa olevia ihmisiä.\n",
      "         2   23   43   49 : Helsinkiin pitää palauttaa HSL:n A-vyöhykkeen edullinen kertalippu, vaikka se lisäisi kaupungin joukkoliikennekustannuksia.\n",
      "         0    0   13  104 : Helsingin pitää palkata ennemmin lisää työvoimaa kuin ostaa koulujen lakisääteiset terveystarkastukset yksityisiltä lääkäriasemilta.\n",
      "         1   25   57   34 : Helsingissä on varaa alentaa tonttien vuokrahintoja ja näin pienentää monen kaupunkilaisen asumisen kustannuksia.\n"
     ]
    }
   ],
   "source": [
    "# Let's display the results. (Just two parties now, for illustrative purposes.)\n",
    "for party in (\"Vihr.\", \"Vas.\"):\n",
    "    questions = result[party]\n",
    "    print(f\"{party:<6}  --    -    +   ++\")\n",
    "    for question_id, stats in questions.items():\n",
    "        text = helsinki.question_id_to_text(question_id)\n",
    "        print(f\"      {stats[1]:>4} {stats[2]:>4} {stats[4]:>4} {stats[5]:>4} : {text}\")"
   ]
  },
  {
   "cell_type": "code",
   "execution_count": null,
   "id": "66f87b15-ba16-4a68-a431-b01887f8511a",
   "metadata": {},
   "outputs": [],
   "source": []
  }
 ],
 "metadata": {
  "kernelspec": {
   "display_name": "Python 3 (ipykernel)",
   "language": "python",
   "name": "python3"
  },
  "language_info": {
   "codemirror_mode": {
    "name": "ipython",
    "version": 3
   },
   "file_extension": ".py",
   "mimetype": "text/x-python",
   "name": "python",
   "nbconvert_exporter": "python",
   "pygments_lexer": "ipython3",
   "version": "3.12.3"
  }
 },
 "nbformat": 4,
 "nbformat_minor": 5
}
