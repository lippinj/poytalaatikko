{
 "cells": [
  {
   "cell_type": "code",
   "execution_count": 1,
   "id": "dc5d3ea0-e19f-47ea-9873-3ef356a7d4d2",
   "metadata": {},
   "outputs": [],
   "source": [
    "from collections import defaultdict\n",
    "import ylekone"
   ]
  },
  {
   "cell_type": "code",
   "execution_count": 2,
   "id": "54e75227-1412-43df-8ad5-b8aa8c5e7dd2",
   "metadata": {},
   "outputs": [],
   "source": [
    "# Start from this top level object.\n",
    "vk = ylekone.Vaalikone()"
   ]
  },
  {
   "cell_type": "code",
   "execution_count": 3,
   "id": "2f559166-9adc-4c62-ab54-abc6a81bcd50",
   "metadata": {},
   "outputs": [
    {
     "data": {
      "text/plain": [
       "<25:Helsinki>"
      ]
     },
     "execution_count": 3,
     "metadata": {},
     "output_type": "execute_result"
    }
   ],
   "source": [
    "# Index with square brackets to fetch a municipality by name or id. Results are cached.\n",
    "helsinki = vk[\"Helsinki\"]\n",
    "helsinki"
   ]
  },
  {
   "cell_type": "code",
   "execution_count": 4,
   "id": "e11ca638-d546-431d-a0de-f6c0d192b487",
   "metadata": {},
   "outputs": [
    {
     "data": {
      "text/plain": [
       "<6467:Mari Holopainen (Vihr.)>"
      ]
     },
     "execution_count": 4,
     "metadata": {},
     "output_type": "execute_result"
    }
   ],
   "source": [
    "# Index with square brackets to fetch a candidate by name or id. Results are cached.\n",
    "mari = helsinki[\"Mari Holopainen\"]\n",
    "mari"
   ]
  },
  {
   "cell_type": "code",
   "execution_count": 5,
   "id": "1a4ee6b7-9a5e-42a6-b939-8bf9371f5db1",
   "metadata": {},
   "outputs": [
    {
     "name": "stdout",
     "output_type": "stream",
     "text": [
      "<42:Annikka Alanko (Kok.)>\n"
     ]
    }
   ],
   "source": [
    "# You can also iterate over candidates.\n",
    "for candidate in helsinki.candidates:\n",
    "    print(candidate)\n",
    "    break # Just print one item, for demonstration purposes"
   ]
  },
  {
   "cell_type": "code",
   "execution_count": 6,
   "id": "62f62a0f-c1d9-4d6b-b77c-1b98c7a33f8c",
   "metadata": {},
   "outputs": [
    {
     "name": "stdout",
     "output_type": "stream",
     "text": [
      "  83: Kuntani tulisi asettaa yläraja peruskoulun opetusryhmien koolle.\n"
     ]
    }
   ],
   "source": [
    "# Similarly, you can iterate over questions.\n",
    "for id, text_fi, full_json in helsinki.questions:\n",
    "    print(f\"{id:>4}: {text_fi}\")\n",
    "    break"
   ]
  },
  {
   "cell_type": "code",
   "execution_count": 7,
   "id": "bda10526-9b91-49b1-970c-52250193cd23",
   "metadata": {},
   "outputs": [
    {
     "name": "stdout",
     "output_type": "stream",
     "text": [
      "81: 1\n"
     ]
    }
   ],
   "source": [
    "# The answers given by a candidate can be iterated over.\n",
    "for id, answer, _ in mari.answers:\n",
    "    print(f\"{id}: {answer}\")\n",
    "    break"
   ]
  },
  {
   "cell_type": "code",
   "execution_count": 8,
   "id": "df09015e-ce3a-42fd-8c1f-c1181fe2126f",
   "metadata": {},
   "outputs": [
    {
     "name": "stdout",
     "output_type": "stream",
     "text": [
      "<Stat:1:15:53:49>\n"
     ]
    }
   ],
   "source": [
    "# Collect statistics about how each party voted on each question.\n",
    "# (This may take a while the first time -- we have to fetch all the candidate JSONs.)\n",
    "stats = ylekone.make_stats(helsinki)\n",
    "print(stats[83][\"Kokoomus\"])"
   ]
  },
  {
   "cell_type": "code",
   "execution_count": 9,
   "id": "e35ffc0a-800f-404b-af64-31ffb86fe022",
   "metadata": {},
   "outputs": [
    {
     "name": "stdout",
     "output_type": "stream",
     "text": [
      "81: Pienten koulujen lakkauttaminen on perusteltua säästösyistä.\n",
      "                                  --   -   +  ++\n",
      "                        Kokoomus  13  47   6  52\n",
      "                         Vihreät  45  62   1  17\n",
      "                             RKP  13  37   2  16\n",
      "              Sosialidemokraatit  24  69   0  19\n",
      "                Perussuomalaiset  21  36   4  29\n",
      "                 Liberaalipuolue   1  10   7  14\n",
      "                Vasemmistoliitto  74  41   0   2\n",
      "           Kristillisdemokraatit   4  21   4   8\n",
      "    Asukkaiden ääni -yhteislista  15   2   0   2\n",
      "                        Keskusta  13  28   2   9\n",
      "                       Liike Nyt   3  12   1   5\n",
      "                 Vapauden liitto   4   1   1   0\n",
      "               Eläinoikeuspuolue   1   0   0   0\n",
      "    Ympäristöpuolue -yhteislista   0   1   0   0\n"
     ]
    }
   ],
   "source": [
    "# The results can be displayed, for example, as follows.\n",
    "for qid, statsq in stats.items():\n",
    "    print(f\"{qid}: {helsinki.question_id_to_text(qid)}\")\n",
    "    print(f\"{'':>32}  --   -   +  ++\")\n",
    "    for party, stat in statsq.items():\n",
    "        print(f\"{party:>32} {stat.dd:>3} {stat.d:>3} {stat.a:>3} {stat.aa:>3}\")\n",
    "    break"
   ]
  },
  {
   "cell_type": "code",
   "execution_count": null,
   "id": "66f87b15-ba16-4a68-a431-b01887f8511a",
   "metadata": {},
   "outputs": [],
   "source": []
  }
 ],
 "metadata": {
  "kernelspec": {
   "display_name": "Python 3 (ipykernel)",
   "language": "python",
   "name": "python3"
  },
  "language_info": {
   "codemirror_mode": {
    "name": "ipython",
    "version": 3
   },
   "file_extension": ".py",
   "mimetype": "text/x-python",
   "name": "python",
   "nbconvert_exporter": "python",
   "pygments_lexer": "ipython3",
   "version": "3.12.3"
  }
 },
 "nbformat": 4,
 "nbformat_minor": 5
}
