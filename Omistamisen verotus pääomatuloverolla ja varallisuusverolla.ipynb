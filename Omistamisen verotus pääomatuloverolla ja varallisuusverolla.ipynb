{
 "cells": [
  {
   "cell_type": "markdown",
   "id": "9ed486c0-d43b-4d46-a8a5-91c1bf5bb599",
   "metadata": {},
   "source": [
    "# Omistamisen verotus pääomatuloverolla ja varallisuusverolla\n",
    "\n",
    "Verotamme nykyisin omistamista (pääomaa) pääomatuloverolla. Veroa maksetaan, kun pääomasta syntyy konkreettista tuloa, esimerkiksi myyntitulon tai osingon muodossa.\n",
    "\n",
    "Tarkastelen tässä vaihtoehtona nettovarallisuuden verottamista."
   ]
  },
  {
   "cell_type": "markdown",
   "id": "90a4e2cb-31d1-4efd-a300-35ef3e7970bf",
   "metadata": {},
   "source": [
    "## Säännölliset pääomatulot (esim. osinko)\n",
    "\n",
    "Jos omaisuuden vuosituotto on tiedossa, voimme selvittää varallisuusveroasteen, joka vastaa melko tarkasti pääomatuloveroastetta, kun pääomatuloa syntyy tasaisesti vuosittain.\n",
    "\n",
    "Esimerkiksi jos vuosituotto on maltillinen 4% ja pääomatulovero 30%, vastaava varallisuusveroaste olisi 1.2%."
   ]
  },
  {
   "cell_type": "code",
   "execution_count": 1,
   "id": "e2818371-5ce0-462e-b31f-c4b97589f91b",
   "metadata": {},
   "outputs": [
    {
     "name": "stdout",
     "output_type": "stream",
     "text": [
      "-------------------------------------------\n",
      "  time  capital      tax  cum.tax     total\n",
      "-------------------------------------------\n",
      "     0   100.00     0.00     0.00   100.00\n",
      "     1   102.80     1.20     1.20   104.00\n",
      "     2   105.68     1.23     2.43   108.11\n",
      "     3   108.64     1.27     3.70   112.34\n",
      "     4   111.68     1.30     5.01   116.68\n",
      "     5   114.81     1.34     6.35   121.15\n",
      "     6   118.02     1.38     7.72   125.74\n",
      "     7   121.33     1.42     9.14   130.46\n",
      "     8   124.72     1.46    10.60   135.32\n",
      "     9   128.21     1.50    12.09   140.31\n",
      "    10   131.80     1.54    13.63   145.44\n",
      "-------------------------------------------\n",
      "  time  capital      tax  cum.tax     total\n",
      "-------------------------------------------\n",
      "     0   100.00     0.00     0.00   100.00\n",
      "     1   102.78     1.22     1.22   104.00\n",
      "     2   105.63     1.26     2.48   108.11\n",
      "     3   108.56     1.29     3.77   112.34\n",
      "     4   111.57     1.33     5.10   116.68\n",
      "     5   114.67     1.37     6.47   121.14\n",
      "     6   117.86     1.40     7.87   125.73\n",
      "     7   121.13     1.44     9.32   130.44\n",
      "     8   124.49     1.48    10.80   135.29\n",
      "     9   127.95     1.52    12.32   140.27\n",
      "    10   131.50     1.57    13.89   145.39\n"
     ]
    }
   ],
   "source": [
    "from capital_tax import CapitalTax\n",
    "a = CapitalTax.run_regular_gains_tax(10, 0.04, 0.30)\n",
    "b = CapitalTax.run_wealth_tax(10, 0.04, 0.012)\n",
    "a.print_report()\n",
    "b.print_report()"
   ]
  },
  {
   "cell_type": "markdown",
   "id": "7d03e5b9-b977-425c-8c98-72bd0d8e8520",
   "metadata": {},
   "source": [
    "Jos vuosituotto on varsin korkea 10%, vastaava varallisuusveroaste voisi olla 2.85%."
   ]
  },
  {
   "cell_type": "code",
   "execution_count": 2,
   "id": "8837d48f-8f55-49ae-95f4-defb9495a8a6",
   "metadata": {},
   "outputs": [
    {
     "name": "stdout",
     "output_type": "stream",
     "text": [
      "-------------------------------------------\n",
      "  time  capital      tax  cum.tax     total\n",
      "-------------------------------------------\n",
      "     0   100.00     0.00     0.00   100.00\n",
      "     1   107.00     3.00     3.00   110.00\n",
      "     2   114.49     3.21     6.21   120.70\n",
      "     3   122.50     3.43     9.64   132.15\n",
      "     4   131.08     3.68    13.32   144.40\n",
      "     5   140.26     3.93    17.25   157.51\n",
      "     6   150.07     4.21    21.46   171.53\n",
      "     7   160.58     4.50    25.96   186.54\n",
      "     8   171.82     4.82    30.78   202.60\n",
      "     9   183.85     5.15    35.93   219.78\n",
      "    10   196.72     5.52    41.45   238.16\n",
      "-------------------------------------------\n",
      "  time  capital      tax  cum.tax     total\n",
      "-------------------------------------------\n",
      "     0   100.00     0.00     0.00   100.00\n",
      "     1   107.01     2.99     2.99   110.00\n",
      "     2   114.51     3.20     6.19   120.70\n",
      "     3   122.53     3.43     9.62   132.15\n",
      "     4   131.12     3.67    13.29   144.40\n",
      "     5   140.30     3.92    17.21   157.52\n",
      "     6   150.14     4.20    21.41   171.55\n",
      "     7   160.66     4.49    25.90   186.56\n",
      "     8   171.91     4.81    30.71   202.63\n",
      "     9   183.96     5.14    35.86   219.82\n",
      "    10   196.85     5.51    41.36   238.21\n"
     ]
    }
   ],
   "source": [
    "a = CapitalTax.run_regular_gains_tax(10, 0.10, 0.30)\n",
    "b = CapitalTax.run_wealth_tax(10, 0.10, 0.0285)\n",
    "a.print_report()\n",
    "b.print_report()"
   ]
  },
  {
   "cell_type": "markdown",
   "id": "5d15af73-9cea-4244-a80b-6713e822cb90",
   "metadata": {},
   "source": [
    "## Viivästetyt pääomatulot (esim. myyntitulo pitkän ajan jälkeen)\n",
    "\n",
    "Pitkäaikainen omistus sallii myyntitulojen viivästyttämisen, mikä viivästyttää myös verotusta.\n",
    "\n",
    "Tämä etu on olemassa verrattuna kaikkeen säännölliseen verotukseen, mutta vertaan sitä tässä säännölliseen pääomatuloveroon; alla laskelmat 10% vuosituotolla."
   ]
  },
  {
   "cell_type": "code",
   "execution_count": 3,
   "id": "f94651be-2bfd-4f50-a025-5579f27b570d",
   "metadata": {},
   "outputs": [
    {
     "name": "stdout",
     "output_type": "stream",
     "text": [
      "-------------------------------------------\n",
      "  time  capital      tax  cum.tax     total\n",
      "-------------------------------------------\n",
      "     0   100.00     0.00     0.00   100.00\n",
      "     1   107.00     3.00     3.00   110.00\n",
      "     2   114.49     3.21     6.21   120.70\n",
      "     3   122.50     3.43     9.64   132.15\n",
      "     4   131.08     3.68    13.32   144.40\n",
      "     5   140.26     3.93    17.25   157.51\n",
      "     6   150.07     4.21    21.46   171.53\n",
      "     7   160.58     4.50    25.96   186.54\n",
      "     8   171.82     4.82    30.78   202.60\n",
      "     9   183.85     5.15    35.93   219.78\n",
      "    10   196.72     5.52    41.45   238.16\n",
      "-------------------------------------------\n",
      "  time  capital      tax  cum.tax     total\n",
      "-------------------------------------------\n",
      "     0   100.00     0.00     0.00   100.00\n",
      "     1   110.00     0.00     0.00   110.00\n",
      "     2   121.00     0.00     0.00   121.00\n",
      "     3   133.10     0.00     0.00   133.10\n",
      "     4   146.41     0.00     0.00   146.41\n",
      "     5   161.05     0.00     0.00   161.05\n",
      "     6   177.16     0.00     0.00   177.16\n",
      "     7   194.87     0.00     0.00   194.87\n",
      "     8   214.36     0.00     0.00   214.36\n",
      "     9   235.79     0.00     0.00   235.79\n",
      "    10   211.56    47.81    47.81   259.37\n"
     ]
    }
   ],
   "source": [
    "a = CapitalTax.run_regular_gains_tax(10, 0.10, 0.30)\n",
    "b = CapitalTax.run_one_shot_gains_tax(10, 0.10, 0.30)\n",
    "a.print_report()\n",
    "b.print_report()"
   ]
  },
  {
   "cell_type": "markdown",
   "id": "3c0f522d-43a1-4ae2-ae2f-e2058e1c5cd7",
   "metadata": {},
   "source": [
    "Viivästyttäminen tuottaa sekä korkeamman loppupääoman että korkeamman verokertymän. On kuitenkin syytä katsoa pelkän viimeisen kertymän sijaan verotulojen nykyarvoa. Tulos riippuu sekä pääoman vuosituotosta että valitusta vertailukorosta. Vaatimattomilla vuosituotoilla nykyarvo on matalillakin koroilla säännöllisesti verottamalla parempi."
   ]
  },
  {
   "cell_type": "code",
   "execution_count": 4,
   "id": "44f4705d-ea33-48ad-8472-bfdca5ef7ed1",
   "metadata": {},
   "outputs": [
    {
     "name": "stdout",
     "output_type": "stream",
     "text": [
      "Vuosituotto: 2%\n",
      "Verokertymä: 6.39 vs. 6.57\n",
      "Verojen nykyarvo:\n",
      "  Korko 1%: 6.05 vs. 5.95\n",
      "  Korko 2%: 5.73 vs. 5.39\n",
      "  Korko 3%: 5.43 vs. 4.89\n",
      "  Korko 4%: 5.16 vs. 4.44\n",
      "\n",
      "Vuosituotto: 4%\n",
      "Verokertymä: 13.63 vs. 14.41\n",
      "Verojen nykyarvo:\n",
      "  Korko 1%: 12.88 vs. 13.04\n",
      "  Korko 2%: 12.19 vs. 11.82\n",
      "  Korko 3%: 11.55 vs. 10.72\n",
      "  Korko 4%: 10.96 vs. 9.73\n",
      "\n",
      "Vuosituotto: 6%\n",
      "Verokertymä: 21.81 vs. 23.73\n",
      "Verojen nykyarvo:\n",
      "  Korko 1%: 20.59 vs. 21.48\n",
      "  Korko 2%: 19.46 vs. 19.46\n",
      "  Korko 3%: 18.42 vs. 17.65\n",
      "  Korko 4%: 17.46 vs. 16.03\n",
      "\n",
      "Vuosituotto: 8%\n",
      "Verokertymä: 31.05 vs. 34.77\n",
      "Verojen nykyarvo:\n",
      "  Korko 1%: 29.27 vs. 31.47\n",
      "  Korko 2%: 27.64 vs. 28.52\n",
      "  Korko 3%: 26.13 vs. 25.87\n",
      "  Korko 4%: 24.74 vs. 23.49\n",
      "\n",
      "Vuosituotto: 10%\n",
      "Verokertymä: 41.45 vs. 47.81\n",
      "Verojen nykyarvo:\n",
      "  Korko 1%: 39.04 vs. 43.28\n",
      "  Korko 2%: 36.82 vs. 39.22\n",
      "  Korko 3%: 34.78 vs. 35.58\n",
      "  Korko 4%: 32.89 vs. 32.30\n",
      "\n"
     ]
    }
   ],
   "source": [
    "for vt in (2, 4, 6, 8, 10):\n",
    "    a = CapitalTax.run_regular_gains_tax(10, vt/100, 0.30)\n",
    "    b = CapitalTax.run_one_shot_gains_tax(10, vt/100, 0.30)\n",
    "    print(f\"Vuosituotto: {vt}%\")\n",
    "    print(f\"Verokertymä: {a.total_taxes[-1]:>.2f} vs. {b.total_taxes[-1]:>.2f}\")\n",
    "    print(f\"Verojen nykyarvo:\")\n",
    "    for i in (1, 2, 3, 4):\n",
    "        print(f\"  Korko {i}%: {a.npv(i/100):>.2f} vs. {b.npv(i/100):>.2f}\")\n",
    "    print(\"\")"
   ]
  },
  {
   "cell_type": "code",
   "execution_count": null,
   "id": "6d41f0e7-77f9-43c8-8fbf-22fa5d0ca058",
   "metadata": {},
   "outputs": [],
   "source": []
  }
 ],
 "metadata": {
  "kernelspec": {
   "display_name": "Python 3 (ipykernel)",
   "language": "python",
   "name": "python3"
  },
  "language_info": {
   "codemirror_mode": {
    "name": "ipython",
    "version": 3
   },
   "file_extension": ".py",
   "mimetype": "text/x-python",
   "name": "python",
   "nbconvert_exporter": "python",
   "pygments_lexer": "ipython3",
   "version": "3.12.3"
  }
 },
 "nbformat": 4,
 "nbformat_minor": 5
}
