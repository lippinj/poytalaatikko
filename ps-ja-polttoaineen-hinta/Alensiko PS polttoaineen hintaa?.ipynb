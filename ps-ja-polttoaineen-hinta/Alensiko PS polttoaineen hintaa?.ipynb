{
 "cells": [
  {
   "cell_type": "code",
   "execution_count": null,
   "id": "3b3cc94e-9523-4ab6-bb40-e301b2ad0fd0",
   "metadata": {},
   "outputs": [],
   "source": [
    "import datetime\n",
    "\n",
    "import numpy as np\n",
    "from matplotlib import pyplot as plt\n",
    "\n",
    "import statfin\n",
    "import pandas_datareader"
   ]
  },
  {
   "cell_type": "code",
   "execution_count": null,
   "id": "d2b5728a-c17d-4b6e-94ec-a18c729266eb",
   "metadata": {},
   "outputs": [],
   "source": [
    "def date(t):\n",
    "    if isinstance(t, str):\n",
    "        return datetime.datetime.strptime(t, \"%YM%m\")\n",
    "    else:\n",
    "        return np.array([date(e) for e in t])"
   ]
  },
  {
   "cell_type": "code",
   "execution_count": null,
   "id": "5a44b769-665e-41df-872b-3922b55ab687",
   "metadata": {},
   "outputs": [],
   "source": [
    "db = statfin.StatFin()"
   ]
  },
  {
   "cell_type": "code",
   "execution_count": null,
   "id": "fe6e4e7b-912f-4967-942f-751149b0f689",
   "metadata": {},
   "outputs": [],
   "source": [
    "tbl_prices = db.StatFin.ehi.ge\n",
    "df_prices = tbl_prices.query(Tiedot=\"hinta\")()"
   ]
  },
  {
   "cell_type": "code",
   "execution_count": null,
   "id": "b7311a0f-2918-40e5-b8d8-145d08f28e6a",
   "metadata": {},
   "outputs": [],
   "source": [
    "t = df_prices[df_prices.Polttoneste == \"A\"].Kuukausi\n",
    "a = df_prices[df_prices.Polttoneste == \"A\"].hinta / 100\n",
    "b = df_prices[df_prices.Polttoneste == \"B\"].hinta / 100\n",
    "t = date(t)\n",
    "\n",
    "t = t[-96:]\n",
    "a = a[-96:]\n",
    "b = b[-96:]"
   ]
  },
  {
   "cell_type": "code",
   "execution_count": null,
   "id": "c7dbf47b-66ec-47b3-817e-59baf1eefa1c",
   "metadata": {},
   "outputs": [],
   "source": [
    "df = pandas_datareader.data.DataReader(\"DCOILBRENTEU\", \"fred\", t[0], datetime.datetime.now())\n",
    "brent = df.resample(\"ME\").mean().DCOILBRENTEU.to_numpy()[:len(t)]"
   ]
  },
  {
   "cell_type": "code",
   "execution_count": null,
   "id": "05e7bf85-aab4-4156-918c-a4ae3e1a8640",
   "metadata": {},
   "outputs": [],
   "source": [
    "df = pandas_datareader.data.DataReader(\"DEXUSEU\", \"fred\", t[0], datetime.datetime.now())\n",
    "eurusd = df.resample(\"ME\").mean().DEXUSEU.to_numpy()[:len(t)]"
   ]
  },
  {
   "cell_type": "code",
   "execution_count": null,
   "id": "752d4e9c-42ad-4f52-9e4e-4a9b7436b339",
   "metadata": {},
   "outputs": [],
   "source": [
    "c = brent * eurusd / 158.987"
   ]
  },
  {
   "cell_type": "code",
   "execution_count": null,
   "id": "cc060dd7-5bad-484e-ac06-d31791e99d98",
   "metadata": {},
   "outputs": [],
   "source": [
    "plt.figure(figsize=(10, 4))\n",
    "ax = plt.gca()\n",
    "ax.plot(t, a, color=\"forestgreen\", label=\"E95\")\n",
    "ax.plot(t, b, color=\"firebrick\", label=\"Diesel\")\n",
    "ax.plot(t, c, color=\"#444\", label=\"Raakaöljy (Brent)\")\n",
    "\n",
    "ax.axvspan(datetime.datetime(2015, 5, 29), datetime.datetime(2019, 6, 6), color=\"green\", alpha=0.1)\n",
    "ax.axvspan(datetime.datetime(2019, 6, 6), datetime.datetime(2023, 6, 20), color=\"red\", alpha=0.1)\n",
    "ax.axvspan(datetime.datetime(2023, 6, 20), datetime.datetime.now(), color=\"blue\", alpha=0.1)\n",
    "\n",
    "ax.axvline(datetime.datetime(2020, 3, 17), color=\"goldenrod\", linewidth=2, alpha=0.5)\n",
    "ax.axvline(datetime.datetime(2022, 2, 24), color=\"red\", linewidth=2, alpha=0.5)\n",
    "\n",
    "ax.set_ylim(0, None)\n",
    "ax.set_xlim(t[0], t[-1])\n",
    "ax.set_ylabel(\"EUR / L\")\n",
    "#ax.grid(True)\n",
    "ax.legend()\n",
    "\n",
    "plt.savefig(\"polttoaine.png\", dpi=150, bbox_inches=\"tight\")"
   ]
  },
  {
   "cell_type": "code",
   "execution_count": null,
   "id": "5fbe6b52-e0ed-49cd-a457-a96a74c011bb",
   "metadata": {},
   "outputs": [],
   "source": []
  }
 ],
 "metadata": {
  "kernelspec": {
   "display_name": "Python 3 (ipykernel)",
   "language": "python",
   "name": "python3"
  },
  "language_info": {
   "codemirror_mode": {
    "name": "ipython",
    "version": 3
   },
   "file_extension": ".py",
   "mimetype": "text/x-python",
   "name": "python",
   "nbconvert_exporter": "python",
   "pygments_lexer": "ipython3",
   "version": "3.12.10"
  }
 },
 "nbformat": 4,
 "nbformat_minor": 5
}
